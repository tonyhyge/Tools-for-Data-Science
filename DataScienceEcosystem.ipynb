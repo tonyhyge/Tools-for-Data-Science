{
 "cells": [
  {
   "cell_type": "markdown",
   "id": "95ee1997-cdaa-4b68-b744-77286fbf614e",
   "metadata": {},
   "source": [
    "# Data Science Tools and Ecosystem"
   ]
  },
  {
   "cell_type": "markdown",
   "id": "47750101-2cc5-49ea-88df-94c4f8259159",
   "metadata": {},
   "source": [
    "In this notebook, Data Science Tools and Ecosystem are summarized.\n"
   ]
  },
  {
   "cell_type": "markdown",
   "id": "1aa4c08f-373c-483c-95b6-9171d1c43212",
   "metadata": {},
   "source": [
    "__Objectives:__\n",
    "- R\n",
    "- Python \n",
    "- C\n",
    "- Java"
   ]
  },
  {
   "cell_type": "markdown",
   "id": "ea2248e2-ba52-42b9-8b47-faacd95f079f",
   "metadata": {},
   "source": [
    "Some of the popular languages that Data Scientists use are:\n",
    "\n"
   ]
  },
  {
   "cell_type": "markdown",
   "id": "c3f33b19-72a0-4c39-8438-23ec22298b94",
   "metadata": {},
   "source": [
    "1. Python \n",
    "2. C\n",
    "3. R"
   ]
  },
  {
   "cell_type": "markdown",
   "id": "35775f59-f8d7-4f12-8f7b-0a73144732cc",
   "metadata": {},
   "source": [
    "Some of the commonly used libraries used by Data Scientists include:\n",
    "1. TensorFlow\n",
    "2. Numpy\n",
    "3. SciPy"
   ]
  },
  {
   "cell_type": "markdown",
   "id": "45668529-3ee6-4ac8-8b6c-a271f74751ce",
   "metadata": {},
   "source": [
    "| Data Science Tools |\n",
    "| ------------------ |\n",
    "| Matplotlib |\n",
    "| Apache Spark |\n",
    "| TensorFlow |"
   ]
  },
  {
   "cell_type": "markdown",
   "id": "fe67039f-5eaa-44b5-a654-f441767b02bd",
   "metadata": {},
   "source": [
    "### Below are a few examples of evaluating arithmetic expressions in Python.\n"
   ]
  },
  {
   "cell_type": "code",
   "execution_count": 1,
   "id": "491ce5ba-e0ab-4622-b41a-b06d94cfef21",
   "metadata": {
    "tags": []
   },
   "outputs": [
    {
     "data": {
      "text/plain": [
       "17"
      ]
     },
     "execution_count": 1,
     "metadata": {},
     "output_type": "execute_result"
    }
   ],
   "source": [
    "#This a simple arithmetic expression to mutiply then add integers\n",
    "(3*4)+5"
   ]
  },
  {
   "cell_type": "code",
   "execution_count": 2,
   "id": "afd009e5-f6dd-4782-9976-5f10f1f526ed",
   "metadata": {
    "tags": []
   },
   "outputs": [
    {
     "data": {
      "text/plain": [
       "3.3333333333333335"
      ]
     },
     "execution_count": 2,
     "metadata": {},
     "output_type": "execute_result"
    }
   ],
   "source": [
    "#This will convert 200 minutes to hours by diving by 60\n",
    "200/60"
   ]
  },
  {
   "cell_type": "markdown",
   "id": "ca0f5ace-cb88-445d-9121-ce083d7e0550",
   "metadata": {},
   "source": [
    "## Author\n",
    "Minh"
   ]
  },
  {
   "cell_type": "code",
   "execution_count": null,
   "id": "c5f06997-7f45-4749-bdc2-bc5426492426",
   "metadata": {},
   "outputs": [],
   "source": []
  }
 ],
 "metadata": {
  "kernelspec": {
   "display_name": "Python",
   "language": "python",
   "name": "conda-env-python-py"
  },
  "language_info": {
   "codemirror_mode": {
    "name": "ipython",
    "version": 3
   },
   "file_extension": ".py",
   "mimetype": "text/x-python",
   "name": "python",
   "nbconvert_exporter": "python",
   "pygments_lexer": "ipython3",
   "version": "3.7.12"
  }
 },
 "nbformat": 4,
 "nbformat_minor": 5
}
